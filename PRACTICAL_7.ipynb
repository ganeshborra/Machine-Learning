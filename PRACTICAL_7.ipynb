{
  "nbformat": 4,
  "nbformat_minor": 0,
  "metadata": {
    "colab": {
      "provenance": []
    },
    "kernelspec": {
      "name": "python3",
      "display_name": "Python 3"
    },
    "language_info": {
      "name": "python"
    }
  },
  "cells": [
    {
      "cell_type": "code",
      "execution_count": null,
      "metadata": {
        "id": "EAHrOaM3wh-Y"
      },
      "outputs": [],
      "source": [
        "import numpy as np\n",
        "import pandas as pd\n",
        "from sklearn.datasets import load_iris\n",
        "import matplotlib.pyplot as plt\n",
        "import seaborn as sns\n",
        "from sklearn.preprocessing import StandardScaler\n",
        "from sklearn.model_selection import train_test_split\n",
        "from sklearn import datasets\n",
        "from sklearn.metrics import accuracy_score,confusion_matrix,classification_report\n",
        "from sklearn.neighbors import KNeighborsClassifier\n",
        "from sklearn.model_selection import cross_val_score"
      ]
    },
    {
      "cell_type": "code",
      "source": [
        "def load_and_preprocess_data():\n",
        "  iris =load_iris()\n",
        "  x = iris.data\n",
        "  y=iris.target\n",
        "\n",
        "  scaler = StandardScaler()\n",
        "  x_scaled = scaler.fit_transform(x)\n",
        "\n",
        "  return x_scaled,y,iris\n",
        "\n",
        "x,y,iris = load_and_preprocess_data()"
      ],
      "metadata": {
        "id": "QE_O27oVxBWh"
      },
      "execution_count": null,
      "outputs": []
    },
    {
      "cell_type": "code",
      "source": [
        "def split_data(x,y,test_size=0.2,random_state=42):\n",
        "    return train_test_split(x,y,test_size=test_size,random_state=random_state)\n",
        "x_train,x_test,y_train,y_test = split_data(x,y)"
      ],
      "metadata": {
        "id": "TzkYYiDozwSz"
      },
      "execution_count": null,
      "outputs": []
    },
    {
      "cell_type": "code",
      "source": [
        "def train_knn_model(x_train,y_train,n_neighbors=3):\n",
        "    knn= KNeighborsClassifier(n_neighbors=k)\n",
        "    knn.fit(x_train,y_train)\n",
        "    return knn\n",
        "k=3\n",
        "knn=train_knn_model(x_train,y_train,k)"
      ],
      "metadata": {
        "id": "Z4ztgpZS0pzF"
      },
      "execution_count": null,
      "outputs": []
    },
    {
      "cell_type": "code",
      "source": [
        "def evaluate_model(knn,x_test,y_test):\n",
        "    y_pred = knn.predict(x_test)\n",
        "    accuracy = accuracy_score(y_test,y_pred)\n",
        "    conf_matrix = confusion_matrix(y_test,y_pred)\n",
        "    class_report = classification_report(y_test,y_pred)\n",
        "    print(f\"Accuracy: {accuracy}\")\n",
        "    print(\"Confusion Matrix:\")\n",
        "    print(conf_matrix)\n",
        "    print(\"Classification Report:\")\n",
        "    print(class_report)\n",
        "evaluate_model(knn,x_test,y_test)"
      ],
      "metadata": {
        "colab": {
          "base_uri": "https://localhost:8080/"
        },
        "id": "b1apex2B07IL",
        "outputId": "dc46b0a2-341e-47d5-967e-c544d1e3be43"
      },
      "execution_count": null,
      "outputs": [
        {
          "output_type": "stream",
          "name": "stdout",
          "text": [
            "Accuracy: 1.0\n",
            "Confusion Matrix:\n",
            "[[10  0  0]\n",
            " [ 0  9  0]\n",
            " [ 0  0 11]]\n",
            "Classification Report:\n",
            "              precision    recall  f1-score   support\n",
            "\n",
            "           0       1.00      1.00      1.00        10\n",
            "           1       1.00      1.00      1.00         9\n",
            "           2       1.00      1.00      1.00        11\n",
            "\n",
            "    accuracy                           1.00        30\n",
            "   macro avg       1.00      1.00      1.00        30\n",
            "weighted avg       1.00      1.00      1.00        30\n",
            "\n"
          ]
        }
      ]
    },
    {
      "cell_type": "code",
      "source": [
        "def perform_cross_validation(x,y,k=3):\n",
        "  knn=KNeighborsClassifier(n_neighbors=k)\n",
        "  cv_scores=cross_val_score(knn,x,y,cv=5)\n",
        "  print(f\"\\nCross-Validation results for K={k}:\")\n",
        "  print(f\"Mean Accuracy: {cv_scores.mean()*100:.2f}%\")\n",
        "  print(f\"standard deviation:{cv_scores.std()*100:.2f}%\")\n",
        "\n",
        "perform_cross_validation(x,y,k)"
      ],
      "metadata": {
        "colab": {
          "base_uri": "https://localhost:8080/"
        },
        "id": "cQbpLG4l1hVO",
        "outputId": "66b9e5dd-b2d3-4021-a45b-18898a46cb1d"
      },
      "execution_count": null,
      "outputs": [
        {
          "output_type": "stream",
          "name": "stdout",
          "text": [
            "\n",
            "Cross-Validation results for K=3:\n",
            "Mean Accuracy: 95.33%\n",
            "standard deviation:3.40%\n"
          ]
        }
      ]
    },
    {
      "cell_type": "code",
      "source": [
        "def predict_user_input(knn,scaler,iris):\n",
        "  try:\n",
        "    sepal_length = float(input(\"Enter sepal length(cm): \"))\n",
        "    sepal_width = float(input(\"Enter sepal width(cm): \"))\n",
        "    petal_length = float(input(\"Enter petal length(cm): \"))\n",
        "    petal_width = float(input(\"Enter petal width(cm): \"))\n",
        "  except ValueError:\n",
        "    print(\"Invalid input.Please enter numerical values\")\n",
        "    return\n",
        "  user_input = np.array([[sepal_length,sepal_width,petal_length,petal_width]])\n",
        "  # Create a new StandardScaler instance and fit it on the original data\n",
        "  scaler = StandardScaler()\n",
        "  scaler.fit(x) # Fit the scaler to your original data (x)\n",
        "  user_input_scaled = scaler.transform(user_input) # Then transform user input\n",
        "  prediction = knn.predict(user_input_scaled)\n",
        "  species_names = iris.target_names\n",
        "  predicted_species=species_names[prediction[0]]\n",
        "  print(f\"\\nPredicted Species: {predicted_species}\")\n",
        "# Call the function with the fitted scaler\n",
        "predict_user_input(knn,StandardScaler(),iris)"
      ],
      "metadata": {
        "colab": {
          "base_uri": "https://localhost:8080/"
        },
        "id": "J8ZGV5sj2bDh",
        "outputId": "a425c3ca-909e-4b08-cef1-7f3adb37f83b"
      },
      "execution_count": null,
      "outputs": [
        {
          "output_type": "stream",
          "name": "stdout",
          "text": [
            "Enter sepal length(cm): 10\n",
            "Enter sepal width(cm): 10\n",
            "Enter petal length(cm): 10\n",
            "Enter petal width(cm): 10\n",
            "\n",
            "Predicted Species: virginica\n"
          ]
        }
      ]
    },
    {
      "cell_type": "code",
      "source": [],
      "metadata": {
        "id": "YRJQaiuz4Bio"
      },
      "execution_count": null,
      "outputs": []
    }
  ]
}