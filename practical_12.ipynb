{
  "nbformat": 4,
  "nbformat_minor": 0,
  "metadata": {
    "colab": {
      "provenance": []
    },
    "kernelspec": {
      "name": "python3",
      "display_name": "Python 3"
    },
    "language_info": {
      "name": "python"
    }
  },
  "cells": [
    {
      "cell_type": "code",
      "execution_count": null,
      "metadata": {
        "id": "nQPwjcFl99a1"
      },
      "outputs": [],
      "source": [
        "# Import necessary libraries\n",
        "import numpy as np\n",
        "import matplotlib.pyplot as plt\n",
        "from sklearn.datasets import make_classification\n",
        "from sklearn.model_selection import train_test_split\n",
        "from sklearn.preprocessing import StandardScaler"
      ]
    },
    {
      "cell_type": "code",
      "source": [
        "# Define the Neural Network class with backpropagation\n",
        "class NeuralNetwork:\n",
        "  def init(self, input_size, hidden_size, output_size, learning_rate=0.01):\n",
        "# Initialize network parameters\n",
        "    self.input_size = input_size # Number of input neurons\n",
        "    self.hidden_size = hidden_size # Number of hidden neurons\n",
        "    self.output_size = output_size # Number of output neurons\n",
        "    self.learning_rate = learning_rate # Learning rate for gradient descent\n",
        "# Initialize weights and biases with random values\n",
        "    self.weights_input_hidden = np.random.randn(self.input_size,\n",
        "    self.hidden_size)\n",
        "    self.bias_hidden = np.random.randn(1, self.hidden_size)\n",
        "    self.weights_hidden_output = np.random.randn(self.hidden_size,\n",
        "    self.output_size)\n",
        "    self.bias_output = np.random.randn(1, self.output_size)\n",
        "  def sigmoid(self, x):\n",
        "    return 1 / (1 + np.exp(-x))\n",
        "  def sigmoid_derivative(self, x):\n",
        "    return x * (1 - x)\n"
      ],
      "metadata": {
        "id": "gBhik-0H-W2m"
      },
      "execution_count": null,
      "outputs": []
    },
    {
      "cell_type": "code",
      "source": [
        "# Forward pass: calculate hidden layer output and final output\n",
        "def forward(self, X):\n",
        "  self.hidden_input = np.dot(X, self.weights_input_hidden) + self.bias_hidden\n",
        "  self.hidden_output = self.sigmoid(self.hidden_input)\n",
        "  self.final_input = np.dot(self.hidden_output,\n",
        "  self.weights_hidden_output) + self.bias_output\n",
        "  self.final_output = self.sigmoid(self.final_input)\n",
        "  return self.final_output\n",
        "def backward(self, X, y):\n",
        "# Backpropagation: calculate gradients and update weights\n",
        "  output_error = y - self.final_output\n",
        "  output_delta = output_error * self.sigmoid_derivative(self.final_output)\n",
        "  self.sigmoid_derivative(self.final_output)\n",
        "  hidden_error = output_delta.dot(self.weights_hidden_output.T)\n",
        "  hidden_delta = hidden_error *self.sigmoid_derivative(self.hidden_output)\n",
        "  self.sigmoid_derivative(self.hidden_output)\n",
        "# Update weights and biases using the gradients\n",
        "  self.weights_input_hidden += X.T.dot(hidden_delta) *self.learning_rate\n",
        "  self.bias_hidden += np.sum(hidden_delta, axis=0, keepdims=True) *self.learning_rate\n",
        "  self.weights_hidden_output +=self.hidden_output.T.dot(output_delta) * self.learning_rate\n",
        "  self.bias_output += np.sum(output_delta, axis=0, keepdims=True) *self.learning_rate\n",
        "def train(self, X, y, epochs=1000):\n",
        "# Training the network: run forward pass and backward pass for multiple epochs\n",
        "  for epoch in range(epochs):\n",
        "    self.forward(X) # Perform the forward pass\n",
        "    self.backward(X, y) # Perform the backward pass\n",
        "    if epoch % 100 == 0: # Print loss every 100 epochs\n",
        "        loss = np.mean(np.square(y - self.final_output)) # Mean squared error loss\n",
        "        print(f'Epoch {epoch}, Loss: {loss}')\n",
        "def predict(self, X):\n",
        "# Make predictions with the trained network\n",
        "  return self.forward(X)"
      ],
      "metadata": {
        "id": "xvRk0gLr_QX0"
      },
      "execution_count": null,
      "outputs": []
    },
    {
      "cell_type": "code",
      "source": [
        "# Generate a synthetic dataset for classification\n",
        "# Import necessary libraries\n",
        "import numpy as np\n",
        "import matplotlib.pyplot as plt\n",
        "from sklearn.datasets import make_classification # Import make_classification\n",
        "from sklearn.model_selection import train_test_split\n",
        "from sklearn.preprocessing import StandardScaler\n",
        "X,y = make_classification(n_samples=1000, n_features=20, n_informative=15, n_redundant=5, random_state=42)\n",
        "scaler=StandardScaler()\n",
        "X=scaler.fit_transform(X)\n",
        "X_train, X_test, y_train, y_test = train_test_split(X, y, test_size=0.2, random_state=42)"
      ],
      "metadata": {
        "id": "463I3HoHA8T3"
      },
      "execution_count": null,
      "outputs": []
    },
    {
      "cell_type": "code",
      "source": [
        "# Define the Neural Network class with backpropagation\n",
        "class NeuralNetwork:\n",
        "  def __init__(self, input_size, hidden_size, output_size, learning_rate=0.01): # Changed init to __init__\n",
        "    # Initialize network parameters\n",
        "    self.input_size = input_size # Number of input neurons\n",
        "    self.hidden_size = hidden_size # Number of hidden neurons\n",
        "    self.output_size = output_size # Number of output neurons\n",
        "    self.learning_rate = learning_rate # Learning rate for gradient descent\n",
        "    # Initialize weights and biases with random values\n",
        "    self.weights_input_hidden = np.random.randn(self.input_size, self.hidden_size)\n",
        "    self.bias_hidden = np.random.randn(1, self.hidden_size)\n",
        "    self.weights_hidden_output = np.random.randn(self.hidden_size, self.output_size)\n",
        "    self.bias_output = np.random.randn(1, self.output_size)\n",
        "\n",
        "  def sigmoid(self, x):\n",
        "    return 1 / (1 + np.exp(-x))\n",
        "\n",
        "  def sigmoid_derivative(self, x):\n",
        "    return x * (1 - x)\n",
        "\n",
        "  # Forward pass: calculate hidden layer output and final output\n",
        "  def forward(self, X):\n",
        "    self.hidden_input = np.dot(X, self.weights_input_hidden) + self.bias_hidden\n",
        "    self.hidden_output = self.sigmoid(self.hidden_input)\n",
        "    self.final_input = np.dot(self.hidden_output, self.weights_hidden_output) + self.bias_output\n",
        "    self.final_output = self.sigmoid(self.final_input)\n",
        "    return self.final_output\n",
        "\n",
        "  def backward(self, X, y):\n",
        "    # Backpropagation: calculate gradients and update weights\n",
        "    output_error = y.reshape(-1, 1) - self.final_output  # Reshape y to (800, 1)\n",
        "    output_delta = output_error * self.sigmoid_derivative(self.final_output)\n",
        "    self.sigmoid_derivative(self.final_output)\n",
        "    hidden_error = output_delta.dot(self.weights_hidden_output.T)\n",
        "    hidden_delta = hidden_error * self.sigmoid_derivative(self.hidden_output)\n",
        "    self.sigmoid_derivative(self.hidden_output)\n",
        "    # Update weights and biases using the gradients\n",
        "    self.weights_input_hidden += X.T.dot(hidden_delta) * self.learning_rate\n",
        "    self.bias_hidden += np.sum(hidden_delta, axis=0, keepdims=True) * self.learning_rate\n",
        "    self.weights_hidden_output += self.hidden_output.T.dot(output_delta) * self.learning_rate\n",
        "    self.bias_output += np.sum(output_delta, axis=0, keepdims=True) * self.learning_rate\n",
        "\n",
        "  def train(self, X, y, epochs=1000): # Moved train function inside the class\n",
        "    # Training the network: run forward pass and backward pass for multiple epochs\n",
        "    for epoch in range(epochs):\n",
        "      self.forward(X) # Perform the forward pass\n",
        "      self.backward(X, y) # Perform the backward pass\n",
        "      if epoch % 100 == 0: # Print loss every 100 epochs\n",
        "          loss = np.mean(np.square(y - self.final_output)) # Mean squared error loss\n",
        "          print(f'Epoch {epoch}, Loss: {loss}')\n",
        "\n",
        "  def predict(self, X):\n",
        "    # Make predictions with the trained network\n",
        "    return self.forward(X)"
      ],
      "metadata": {
        "id": "JhT3tiD8e0ci"
      },
      "execution_count": null,
      "outputs": []
    },
    {
      "cell_type": "code",
      "source": [
        "# Initialize the neural network with input size, hidden size, and output size\n",
        "nn = NeuralNetwork(input_size=20, hidden_size=10, output_size=1,learning_rate=0.01)\n",
        "# Train the network with the training data (1000 epochs)\n",
        "nn.train(X_train, y_train, epochs=1000)"
      ],
      "metadata": {
        "colab": {
          "base_uri": "https://localhost:8080/"
        },
        "id": "CgAgtw7_BGh5",
        "outputId": "ddc4490c-6dbe-4d15-8951-acaf68a41419"
      },
      "execution_count": null,
      "outputs": [
        {
          "output_type": "stream",
          "name": "stdout",
          "text": [
            "Epoch 0, Loss: 0.34594414880245367\n",
            "Epoch 100, Loss: 0.3684104724409268\n",
            "Epoch 200, Loss: 0.3898338937458337\n",
            "Epoch 300, Loss: 0.4034084147311466\n",
            "Epoch 400, Loss: 0.41272615599448437\n",
            "Epoch 500, Loss: 0.4188313128563063\n",
            "Epoch 600, Loss: 0.42482973998094575\n",
            "Epoch 700, Loss: 0.42986713925177167\n",
            "Epoch 800, Loss: 0.43454513944759393\n",
            "Epoch 900, Loss: 0.4389698778112095\n"
          ]
        }
      ]
    },
    {
      "cell_type": "code",
      "source": [
        "# Test the trained model on the test set\n",
        "predictions = nn.predict(X_test)\n",
        "# Convert predictions to binary (0 or 1)\n",
        "predictions = (predictions > 0.5).astype(int)\n",
        "# Calculate accuracy: compare predicted values with actual values\n",
        "accuracy = np.mean(predictions == y_test)\n",
        "print(f'Accuracy: {accuracy * 100:.2f}%')"
      ],
      "metadata": {
        "colab": {
          "base_uri": "https://localhost:8080/"
        },
        "id": "IWTyfAnEA2_V",
        "outputId": "29f83741-2176-48dc-b1ba-ad0cbf6dd566"
      },
      "execution_count": null,
      "outputs": [
        {
          "output_type": "stream",
          "name": "stdout",
          "text": [
            "Accuracy: 50.03%\n"
          ]
        }
      ]
    },
    {
      "cell_type": "code",
      "source": [
        "# Neural network class with loss tracking for visualization\n",
        "class NeuralNetworkWithLoss(NeuralNetwork):\n",
        "  def __init__(self, input_size, hidden_size, output_size, learning_rate=0.01): # Changed init to __init__\n",
        "      super().__init__(input_size, hidden_size, output_size, learning_rate)\n",
        "      self.loss_history = []\n",
        "  def train(self, X, y, epochs=1000):\n",
        "      for epoch in range(epochs):\n",
        "          self.forward(X)\n",
        "          self.backward(X, y)\n",
        "          if epoch % 100 == 0:\n",
        "              loss = np.mean(np.square(y - self.final_output))\n",
        "              self.loss_history.append(loss)\n",
        "              print(f'Epoch {epoch}, Loss: {loss}')\n",
        "nn_with_loss = NeuralNetworkWithLoss(input_size=20, hidden_size=10, output_size=1, learning_rate=0.01)\n",
        "nn_with_loss.train(X_train, y_train, epochs=1000)\n",
        "plt.plot(nn_with_loss.loss_history)\n",
        "plt.xlabel('Epochs')\n",
        "plt.ylabel('Loss')\n",
        "plt.title('Loss over Epoch')\n",
        "plt.show()"
      ],
      "metadata": {
        "colab": {
          "base_uri": "https://localhost:8080/",
          "height": 646
        },
        "id": "VVKz5Fo_Auim",
        "outputId": "efb9df3d-474a-4297-92f7-6ca44b1ff9c7"
      },
      "execution_count": null,
      "outputs": [
        {
          "output_type": "stream",
          "name": "stdout",
          "text": [
            "Epoch 0, Loss: 0.33871619875884323\n",
            "Epoch 100, Loss: 0.3658169045662817\n",
            "Epoch 200, Loss: 0.38975937618346684\n",
            "Epoch 300, Loss: 0.40923378584055364\n",
            "Epoch 400, Loss: 0.4212197086975738\n",
            "Epoch 500, Loss: 0.4289184449579064\n",
            "Epoch 600, Loss: 0.4354210118800477\n",
            "Epoch 700, Loss: 0.44064346980512165\n",
            "Epoch 800, Loss: 0.4449651760927529\n",
            "Epoch 900, Loss: 0.44863659596738237\n"
          ]
        },
        {
          "output_type": "display_data",
          "data": {
            "text/plain": [
              "<Figure size 640x480 with 1 Axes>"
            ],
            "image/png": "[encoded data removed]"
          },
          "metadata": {}
        }
      ]
    },
    {
      "cell_type": "code",
      "source": [],
      "metadata": {
        "id": "-OPkPEFNJ-0D"
      },
      "execution_count": null,
      "outputs": []
    }
  ]
}